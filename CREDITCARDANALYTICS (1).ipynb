{
 "cells": [
  {
   "cell_type": "code",
   "execution_count": 7,
   "id": "6e33c7ed",
   "metadata": {},
   "outputs": [
    {
     "data": {
      "text/html": [
       "<div>\n",
       "<style scoped>\n",
       "    .dataframe tbody tr th:only-of-type {\n",
       "        vertical-align: middle;\n",
       "    }\n",
       "\n",
       "    .dataframe tbody tr th {\n",
       "        vertical-align: top;\n",
       "    }\n",
       "\n",
       "    .dataframe thead th {\n",
       "        text-align: right;\n",
       "    }\n",
       "</style>\n",
       "<table border=\"1\" class=\"dataframe\">\n",
       "  <thead>\n",
       "    <tr style=\"text-align: right;\">\n",
       "      <th></th>\n",
       "      <th>Merchant_id</th>\n",
       "      <th>Average Amount/transaction/day</th>\n",
       "      <th>Transaction_amount</th>\n",
       "      <th>Total Number of declines/day</th>\n",
       "      <th>Daily_chargeback_avg_amt</th>\n",
       "      <th>6_month_avg_chbk_amt</th>\n",
       "      <th>6-month_chbk_freq</th>\n",
       "    </tr>\n",
       "  </thead>\n",
       "  <tbody>\n",
       "    <tr>\n",
       "      <th>0</th>\n",
       "      <td>3160040998</td>\n",
       "      <td>100.0</td>\n",
       "      <td>3000.0</td>\n",
       "      <td>5</td>\n",
       "      <td>0</td>\n",
       "      <td>0.0</td>\n",
       "      <td>0</td>\n",
       "    </tr>\n",
       "    <tr>\n",
       "      <th>1</th>\n",
       "      <td>3160040998</td>\n",
       "      <td>100.0</td>\n",
       "      <td>4300.0</td>\n",
       "      <td>5</td>\n",
       "      <td>0</td>\n",
       "      <td>0.0</td>\n",
       "      <td>0</td>\n",
       "    </tr>\n",
       "    <tr>\n",
       "      <th>2</th>\n",
       "      <td>3160041896</td>\n",
       "      <td>185.5</td>\n",
       "      <td>4823.0</td>\n",
       "      <td>5</td>\n",
       "      <td>0</td>\n",
       "      <td>0.0</td>\n",
       "      <td>0</td>\n",
       "    </tr>\n",
       "    <tr>\n",
       "      <th>3</th>\n",
       "      <td>3160141996</td>\n",
       "      <td>185.5</td>\n",
       "      <td>5008.5</td>\n",
       "      <td>8</td>\n",
       "      <td>0</td>\n",
       "      <td>0.0</td>\n",
       "      <td>0</td>\n",
       "    </tr>\n",
       "    <tr>\n",
       "      <th>4</th>\n",
       "      <td>3160241992</td>\n",
       "      <td>500.0</td>\n",
       "      <td>26000.0</td>\n",
       "      <td>0</td>\n",
       "      <td>800</td>\n",
       "      <td>677.2</td>\n",
       "      <td>6</td>\n",
       "    </tr>\n",
       "    <tr>\n",
       "      <th>...</th>\n",
       "      <td>...</td>\n",
       "      <td>...</td>\n",
       "      <td>...</td>\n",
       "      <td>...</td>\n",
       "      <td>...</td>\n",
       "      <td>...</td>\n",
       "      <td>...</td>\n",
       "    </tr>\n",
       "    <tr>\n",
       "      <th>3070</th>\n",
       "      <td>6661273532</td>\n",
       "      <td>500.0</td>\n",
       "      <td>11000.0</td>\n",
       "      <td>0</td>\n",
       "      <td>754</td>\n",
       "      <td>585.0</td>\n",
       "      <td>7</td>\n",
       "    </tr>\n",
       "    <tr>\n",
       "      <th>3071</th>\n",
       "      <td>6661273532</td>\n",
       "      <td>800.0</td>\n",
       "      <td>0.0</td>\n",
       "      <td>0</td>\n",
       "      <td>754</td>\n",
       "      <td>585.0</td>\n",
       "      <td>7</td>\n",
       "    </tr>\n",
       "    <tr>\n",
       "      <th>3072</th>\n",
       "      <td>6661273533</td>\n",
       "      <td>800.0</td>\n",
       "      <td>20800.0</td>\n",
       "      <td>0</td>\n",
       "      <td>754</td>\n",
       "      <td>585.0</td>\n",
       "      <td>7</td>\n",
       "    </tr>\n",
       "    <tr>\n",
       "      <th>3073</th>\n",
       "      <td>6661273532</td>\n",
       "      <td>1500.0</td>\n",
       "      <td>12000.0</td>\n",
       "      <td>0</td>\n",
       "      <td>754</td>\n",
       "      <td>585.0</td>\n",
       "      <td>7</td>\n",
       "    </tr>\n",
       "    <tr>\n",
       "      <th>3074</th>\n",
       "      <td>6661273533</td>\n",
       "      <td>1500.0</td>\n",
       "      <td>36000.0</td>\n",
       "      <td>0</td>\n",
       "      <td>754</td>\n",
       "      <td>585.0</td>\n",
       "      <td>7</td>\n",
       "    </tr>\n",
       "  </tbody>\n",
       "</table>\n",
       "<p>3075 rows × 7 columns</p>\n",
       "</div>"
      ],
      "text/plain": [
       "      Merchant_id  Average Amount/transaction/day  Transaction_amount  \\\n",
       "0      3160040998                           100.0              3000.0   \n",
       "1      3160040998                           100.0              4300.0   \n",
       "2      3160041896                           185.5              4823.0   \n",
       "3      3160141996                           185.5              5008.5   \n",
       "4      3160241992                           500.0             26000.0   \n",
       "...           ...                             ...                 ...   \n",
       "3070   6661273532                           500.0             11000.0   \n",
       "3071   6661273532                           800.0                 0.0   \n",
       "3072   6661273533                           800.0             20800.0   \n",
       "3073   6661273532                          1500.0             12000.0   \n",
       "3074   6661273533                          1500.0             36000.0   \n",
       "\n",
       "      Total Number of declines/day  Daily_chargeback_avg_amt  \\\n",
       "0                                5                         0   \n",
       "1                                5                         0   \n",
       "2                                5                         0   \n",
       "3                                8                         0   \n",
       "4                                0                       800   \n",
       "...                            ...                       ...   \n",
       "3070                             0                       754   \n",
       "3071                             0                       754   \n",
       "3072                             0                       754   \n",
       "3073                             0                       754   \n",
       "3074                             0                       754   \n",
       "\n",
       "      6_month_avg_chbk_amt  6-month_chbk_freq  \n",
       "0                      0.0                  0  \n",
       "1                      0.0                  0  \n",
       "2                      0.0                  0  \n",
       "3                      0.0                  0  \n",
       "4                    677.2                  6  \n",
       "...                    ...                ...  \n",
       "3070                 585.0                  7  \n",
       "3071                 585.0                  7  \n",
       "3072                 585.0                  7  \n",
       "3073                 585.0                  7  \n",
       "3074                 585.0                  7  \n",
       "\n",
       "[3075 rows x 7 columns]"
      ]
     },
     "execution_count": 7,
     "metadata": {},
     "output_type": "execute_result"
    }
   ],
   "source": [
    "import pandas as pd\n",
    "\n",
    "# Reading the CSV file\n",
    "df = pd.read_csv(\"creditcard1.csv\")\n",
    "\n",
    "# Printing rows\n",
    "df.head()\n",
    "df"
   ]
  },
  {
   "cell_type": "code",
   "execution_count": 8,
   "id": "d2bd2ae3",
   "metadata": {},
   "outputs": [
    {
     "name": "stdout",
     "output_type": "stream",
     "text": [
      "Merchant_id                         int64\n",
      "Average Amount/transaction/day    float64\n",
      "Transaction_amount                float64\n",
      "Total Number of declines/day        int64\n",
      "Daily_chargeback_avg_amt            int64\n",
      "6_month_avg_chbk_amt              float64\n",
      "6-month_chbk_freq                   int64\n",
      "dtype: object\n",
      "   Merchant_id  Average Amount/transaction/day  Transaction_amount  \\\n",
      "0   3160040998                           100.0              3000.0   \n",
      "1   3160040998                           100.0              4300.0   \n",
      "2   3160041896                           185.5              4823.0   \n",
      "3   3160141996                           185.5              5008.5   \n",
      "4   3160241992                           500.0             26000.0   \n",
      "\n",
      "   Total Number of declines/day  Daily_chargeback_avg_amt  \\\n",
      "0                             5                         0   \n",
      "1                             5                         0   \n",
      "2                             5                         0   \n",
      "3                             8                         0   \n",
      "4                             0                       800   \n",
      "\n",
      "   6_month_avg_chbk_amt  6-month_chbk_freq  \n",
      "0                   0.0                  0  \n",
      "1                   0.0                  0  \n",
      "2                   0.0                  0  \n",
      "3                   0.0                  0  \n",
      "4                 677.2                  6  \n"
     ]
    }
   ],
   "source": [
    "import pandas as pd\n",
    "\n",
    "# Reading the CSV file\n",
    "df = pd.read_csv(\"creditcard1.csv\")\n",
    "\n",
    "# Printing top 5 rows\n",
    "df.head()\n",
    "df#Data definition\n",
    "print(df.dtypes)\n",
    "print(df.head())"
   ]
  },
  {
   "cell_type": "code",
   "execution_count": 9,
   "id": "f7f3c9f6",
   "metadata": {},
   "outputs": [],
   "source": [
    "#data cleaning and wrangling\n",
    "import pandas as pd\n",
    "import numpy as np\n",
    "import matplotlib.pyplot as plt"
   ]
  },
  {
   "cell_type": "code",
   "execution_count": 10,
   "id": "40ed5f4f",
   "metadata": {},
   "outputs": [],
   "source": [
    "df=pd.read_csv(\"creditcard1.csv\")"
   ]
  },
  {
   "cell_type": "code",
   "execution_count": 11,
   "id": "cc9d7f07",
   "metadata": {},
   "outputs": [
    {
     "name": "stdout",
     "output_type": "stream",
     "text": [
      "   Merchant_id  Average Amount/transaction/day  Transaction_amount  \\\n",
      "0   3160040998                           100.0              3000.0   \n",
      "1   3160040998                           100.0              4300.0   \n",
      "2   3160041896                           185.5              4823.0   \n",
      "3   3160141996                           185.5              5008.5   \n",
      "4   3160241992                           500.0             26000.0   \n",
      "\n",
      "   Total Number of declines/day  Daily_chargeback_avg_amt  \\\n",
      "0                             5                         0   \n",
      "1                             5                         0   \n",
      "2                             5                         0   \n",
      "3                             8                         0   \n",
      "4                             0                       800   \n",
      "\n",
      "   6_month_avg_chbk_amt  6-month_chbk_freq  \n",
      "0                   0.0                  0  \n",
      "1                   0.0                  0  \n",
      "2                   0.0                  0  \n",
      "3                   0.0                  0  \n",
      "4                 677.2                  6  \n",
      "<class 'pandas.core.frame.DataFrame'>\n",
      "RangeIndex: 3075 entries, 0 to 3074\n",
      "Data columns (total 7 columns):\n",
      " #   Column                          Non-Null Count  Dtype  \n",
      "---  ------                          --------------  -----  \n",
      " 0   Merchant_id                     3075 non-null   int64  \n",
      " 1   Average Amount/transaction/day  3075 non-null   float64\n",
      " 2   Transaction_amount              3075 non-null   float64\n",
      " 3   Total Number of declines/day    3075 non-null   int64  \n",
      " 4   Daily_chargeback_avg_amt        3075 non-null   int64  \n",
      " 5   6_month_avg_chbk_amt            3075 non-null   float64\n",
      " 6   6-month_chbk_freq               3075 non-null   int64  \n",
      "dtypes: float64(3), int64(4)\n",
      "memory usage: 168.3 KB\n",
      "None\n",
      "        Merchant_id  Average Amount/transaction/day  Transaction_amount  \\\n",
      "count  3.075000e+03                     3075.000000         3075.000000   \n",
      "mean   5.026634e+09                      515.026556         9876.399210   \n",
      "std    9.870778e+08                      291.906978        10135.331016   \n",
      "min    3.160041e+09                        4.011527            0.000000   \n",
      "25%    4.170814e+09                      269.788047         2408.781147   \n",
      "50%    5.025578e+09                      502.549575         6698.891856   \n",
      "75%    5.889625e+09                      765.272803        14422.568935   \n",
      "max    6.665906e+09                     2000.000000       108000.000000   \n",
      "\n",
      "       Total Number of declines/day  Daily_chargeback_avg_amt  \\\n",
      "count                   3075.000000               3075.000000   \n",
      "mean                       0.957398                 55.737561   \n",
      "std                        2.192391                206.634779   \n",
      "min                        0.000000                  0.000000   \n",
      "25%                        0.000000                  0.000000   \n",
      "50%                        0.000000                  0.000000   \n",
      "75%                        0.000000                  0.000000   \n",
      "max                       20.000000                998.000000   \n",
      "\n",
      "       6_month_avg_chbk_amt  6-month_chbk_freq  \n",
      "count           3075.000000        3075.000000  \n",
      "mean              40.022407           0.391870  \n",
      "std              155.968840           1.548479  \n",
      "min                0.000000           0.000000  \n",
      "25%                0.000000           0.000000  \n",
      "50%                0.000000           0.000000  \n",
      "75%                0.000000           0.000000  \n",
      "max              998.000000           9.000000  \n"
     ]
    }
   ],
   "source": [
    "print(df.head())\n",
    "print(df.info())\n",
    "print(df.describe())"
   ]
  },
  {
   "cell_type": "code",
   "execution_count": 12,
   "id": "bc901e4e",
   "metadata": {},
   "outputs": [
    {
     "name": "stdout",
     "output_type": "stream",
     "text": [
      "Merchant_id                       0\n",
      "Average Amount/transaction/day    0\n",
      "Transaction_amount                0\n",
      "Total Number of declines/day      0\n",
      "Daily_chargeback_avg_amt          0\n",
      "6_month_avg_chbk_amt              0\n",
      "6-month_chbk_freq                 0\n",
      "dtype: int64\n"
     ]
    }
   ],
   "source": [
    "print(df.isnull().sum())\n",
    "df.fillna(value=0, inplace=True)"
   ]
  },
  {
   "cell_type": "markdown",
   "id": "69faba93",
   "metadata": {},
   "source": [
    "Above code will handle missing values in the dataset\n"
   ]
  },
  {
   "cell_type": "code",
   "execution_count": 13,
   "id": "a33c79da",
   "metadata": {},
   "outputs": [],
   "source": [
    "#Remove missing values\n",
    "df=df.dropna()"
   ]
  },
  {
   "cell_type": "code",
   "execution_count": 14,
   "id": "2e4f30e7",
   "metadata": {},
   "outputs": [
    {
     "name": "stdout",
     "output_type": "stream",
     "text": [
      "0\n"
     ]
    }
   ],
   "source": [
    "print(df.duplicated().sum())\n",
    "df.drop_duplicates(inplace=True)"
   ]
  },
  {
   "cell_type": "markdown",
   "id": "469f233b",
   "metadata": {},
   "source": [
    "Above will handle duplicate in this case there are no duplicates"
   ]
  },
  {
   "cell_type": "code",
   "execution_count": 15,
   "id": "6c5adadc",
   "metadata": {},
   "outputs": [
    {
     "data": {
      "text/plain": [
       "{'whiskers': [<matplotlib.lines.Line2D at 0x2712819de70>,\n",
       "  <matplotlib.lines.Line2D at 0x2712819e110>],\n",
       " 'caps': [<matplotlib.lines.Line2D at 0x2712819e3b0>,\n",
       "  <matplotlib.lines.Line2D at 0x2712819e650>],\n",
       " 'boxes': [<matplotlib.lines.Line2D at 0x2712819dbd0>],\n",
       " 'medians': [<matplotlib.lines.Line2D at 0x2712819e8f0>],\n",
       " 'fliers': [<matplotlib.lines.Line2D at 0x2712819eb90>],\n",
       " 'means': []}"
      ]
     },
     "execution_count": 15,
     "metadata": {},
     "output_type": "execute_result"
    },
    {
     "data": {
      "image/png": "[encoded data removed]",
      "text/plain": [
       "<Figure size 640x480 with 1 Axes>"
      ]
     },
     "metadata": {},
     "output_type": "display_data"
    }
   ],
   "source": [
    "plt.boxplot(df['Transaction_amount'])"
   ]
  },
  {
   "cell_type": "markdown",
   "id": "549ab425",
   "metadata": {},
   "source": [
    "Above boxplot is for showing the outliers in the dataset "
   ]
  },
  {
   "cell_type": "code",
   "execution_count": 16,
   "id": "bd49e64b",
   "metadata": {},
   "outputs": [
    {
     "name": "stdout",
     "output_type": "stream",
     "text": [
      "Mean: Merchant_id                       5.026634e+09\n",
      "Average Amount/transaction/day    5.150266e+02\n",
      "Transaction_amount                9.876399e+03\n",
      "Total Number of declines/day      9.573984e-01\n",
      "Daily_chargeback_avg_amt          5.573756e+01\n",
      "6_month_avg_chbk_amt              4.002241e+01\n",
      "6-month_chbk_freq                 3.918699e-01\n",
      "dtype: float64\n",
      "Median: 0.0\n",
      "Variance: Merchant_id                       9.740058e+17\n",
      "Average Amount/transaction/day    8.518197e+04\n",
      "Transaction_amount                1.026915e+08\n",
      "Total Number of declines/day      4.805014e+00\n",
      "Daily_chargeback_avg_amt          4.268405e+04\n",
      "6_month_avg_chbk_amt              2.431837e+04\n",
      "6-month_chbk_freq                 2.397007e+00\n",
      "dtype: float64\n",
      "Standard Deviation: Merchant_id                       9.869173e+08\n",
      "Average Amount/transaction/day    2.918595e+02\n",
      "Transaction_amount                1.013368e+04\n",
      "Total Number of declines/day      2.192034e+00\n",
      "Daily_chargeback_avg_amt          2.066012e+02\n",
      "6_month_avg_chbk_amt              1.559435e+02\n",
      "6-month_chbk_freq                 1.548227e+00\n",
      "dtype: float64\n"
     ]
    },
    {
     "name": "stderr",
     "output_type": "stream",
     "text": [
      "C:\\Users\\Mutethia Kigea\\anaconda3\\lib\\site-packages\\numpy\\core\\fromnumeric.py:3430: FutureWarning: In a future version, DataFrame.mean(axis=None) will return a scalar mean over the entire DataFrame. To retain the old behavior, use 'frame.mean(axis=0)' or just 'frame.mean()'\n",
      "  return mean(axis=axis, dtype=dtype, out=out, **kwargs)\n"
     ]
    }
   ],
   "source": [
    "#Explaratory data analysis\n",
    "import numpy as np\n",
    "mean=np.mean(df)\n",
    "median=np.median(df)\n",
    "variance=np.var(df)\n",
    "std_dev=np.std(df)\n",
    "\n",
    "print(\"Mean:\", mean)\n",
    "print(\"Median:\", median)\n",
    "print(\"Variance:\", variance)\n",
    "print(\"Standard Deviation:\", std_dev)"
   ]
  },
  {
   "cell_type": "code",
   "execution_count": 17,
   "id": "e8a5ec8b",
   "metadata": {},
   "outputs": [
    {
     "name": "stdout",
     "output_type": "stream",
     "text": [
      "        Merchant_id  Average Amount/transaction/day  Transaction_amount  \\\n",
      "count  3.075000e+03                     3075.000000         3075.000000   \n",
      "mean   5.026634e+09                      515.026556         9876.399210   \n",
      "std    9.870778e+08                      291.906978        10135.331016   \n",
      "min    3.160041e+09                        4.011527            0.000000   \n",
      "25%    4.170814e+09                      269.788047         2408.781147   \n",
      "50%    5.025578e+09                      502.549575         6698.891856   \n",
      "75%    5.889625e+09                      765.272803        14422.568935   \n",
      "max    6.665906e+09                     2000.000000       108000.000000   \n",
      "\n",
      "       Total Number of declines/day  Daily_chargeback_avg_amt  \\\n",
      "count                   3075.000000               3075.000000   \n",
      "mean                       0.957398                 55.737561   \n",
      "std                        2.192391                206.634779   \n",
      "min                        0.000000                  0.000000   \n",
      "25%                        0.000000                  0.000000   \n",
      "50%                        0.000000                  0.000000   \n",
      "75%                        0.000000                  0.000000   \n",
      "max                       20.000000                998.000000   \n",
      "\n",
      "       6_month_avg_chbk_amt  6-month_chbk_freq  \n",
      "count           3075.000000        3075.000000  \n",
      "mean              40.022407           0.391870  \n",
      "std              155.968840           1.548479  \n",
      "min                0.000000           0.000000  \n",
      "25%                0.000000           0.000000  \n",
      "50%                0.000000           0.000000  \n",
      "75%                0.000000           0.000000  \n",
      "max              998.000000           9.000000  \n",
      "                               Merchant_id  Average Amount/transaction/day  \\\n",
      "Total Number of declines/day                                                 \n",
      "0                             5.013398e+09                      513.311091   \n",
      "1                             5.249171e+09                      513.376962   \n",
      "2                             5.113224e+09                      580.170532   \n",
      "3                             5.091660e+09                      549.791213   \n",
      "4                             5.068069e+09                      498.599666   \n",
      "5                             4.984910e+09                      509.538868   \n",
      "6                             5.158945e+09                      519.926009   \n",
      "7                             4.621083e+09                      457.225561   \n",
      "8                             4.933573e+09                      473.566044   \n",
      "9                             5.054736e+09                      549.814463   \n",
      "20                            3.162042e+09                      185.500000   \n",
      "\n",
      "                              Transaction_amount  Daily_chargeback_avg_amt  \\\n",
      "Total Number of declines/day                                                 \n",
      "0                                    8587.763509                 40.000419   \n",
      "1                                    9713.063233                 96.604478   \n",
      "2                                   14650.777339                186.000000   \n",
      "3                                   15611.501865                117.390244   \n",
      "4                                   13046.605003                147.956522   \n",
      "5                                   13378.325017                 63.482759   \n",
      "6                                   11980.249045                 72.479167   \n",
      "7                                   20773.811403                 76.432432   \n",
      "8                                   19476.265482                163.644444   \n",
      "9                                   23555.148376                 75.369565   \n",
      "20                                   8100.166667                  0.000000   \n",
      "\n",
      "                              6_month_avg_chbk_amt  6-month_chbk_freq  \n",
      "Total Number of declines/day                                           \n",
      "0                                        28.785193           0.270973  \n",
      "1                                        77.455224           0.798507  \n",
      "2                                       127.532609           1.369565  \n",
      "3                                        88.207317           0.987805  \n",
      "4                                       110.956522           1.188406  \n",
      "5                                        51.632184           0.471264  \n",
      "6                                        55.812500           0.447917  \n",
      "7                                        35.648649           0.243243  \n",
      "8                                        74.911111           1.000000  \n",
      "9                                        63.130435           0.543478  \n",
      "20                                        0.000000           0.000000  \n"
     ]
    }
   ],
   "source": [
    "# Credit card data modeling\n",
    "import pandas as pd\n",
    "print(df.describe())\n",
    "print(df.groupby('Total Number of declines/day').mean())"
   ]
  },
  {
   "cell_type": "markdown",
   "id": "537517cb",
   "metadata": {},
   "source": [
    "From above analytics we have total number"
   ]
  },
  {
   "cell_type": "code",
   "execution_count": 21,
   "id": "c510c8d0",
   "metadata": {},
   "outputs": [
    {
     "data": {
      "text/plain": [
       "<Axes: ylabel='Frequency'>"
      ]
     },
     "execution_count": 21,
     "metadata": {},
     "output_type": "execute_result"
    },
    {
     "data": {
      "image/png": "[encoded data removed]",
      "text/plain": [
       "<Figure size 640x480 with 1 Axes>"
      ]
     },
     "metadata": {},
     "output_type": "display_data"
    }
   ],
   "source": [
    "#Data Visualization of the credit data\n",
    "#1) Histogram\n",
    "import pandas as pd\n",
    "df.plot.hist()\n"
   ]
  },
  {
   "cell_type": "markdown",
   "id": "15279ca0",
   "metadata": {},
   "source": [
    "From above histogram one can see that the cheques with 6 months duration has high frequency.\n"
   ]
  },
  {
   "cell_type": "code",
   "execution_count": 23,
   "id": "196a4b4e",
   "metadata": {},
   "outputs": [
    {
     "data": {
      "text/plain": [
       "<Axes: xlabel='Transaction_amount', ylabel='Total Number of declines/day'>"
      ]
     },
     "execution_count": 23,
     "metadata": {},
     "output_type": "execute_result"
    },
    {
     "data": {
      "image/png": "[encoded data removed]",
      "text/plain": [
       "<Figure size 640x480 with 1 Axes>"
      ]
     },
     "metadata": {},
     "output_type": "display_data"
    }
   ],
   "source": [
    "df.plot.scatter(x='Transaction_amount', y='Total Number of declines/day')"
   ]
  },
  {
   "cell_type": "markdown",
   "id": "ee7d3b78",
   "metadata": {},
   "source": [
    "From above scatterplot one can deduce that the number of declines that are highest are 20 and least are 0. For over 100, 000 transaction amount the total number of declines range from 2.5. Therefore one can conclude from viewing the graph that 0-50,000 transaction amount there are more declines ranging from 0.125 to 0.875 therefore one can conclude during then there is high probability of fraud occuring"
   ]
  }
 ],
 "metadata": {
  "kernelspec": {
   "display_name": "Python 3 (ipykernel)",
   "language": "python",
   "name": "python3"
  },
  "language_info": {
   "codemirror_mode": {
    "name": "ipython",
    "version": 3
   },
   "file_extension": ".py",
   "mimetype": "text/x-python",
   "name": "python",
   "nbconvert_exporter": "python",
   "pygments_lexer": "ipython3",
   "version": "3.10.9"
  }
 },
 "nbformat": 4,
 "nbformat_minor": 5
}
